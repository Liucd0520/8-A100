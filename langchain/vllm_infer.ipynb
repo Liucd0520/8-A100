{
 "cells": [
  {
   "cell_type": "code",
   "execution_count": 41,
   "id": "12dc73ab-a5fe-4a3f-9790-f96c7e98875d",
   "metadata": {
    "tags": []
   },
   "outputs": [
    {
     "ename": "SyntaxError",
     "evalue": "invalid syntax. Perhaps you forgot a comma? (3808683740.py, line 15)",
     "output_type": "error",
     "traceback": [
      "\u001b[0;36m  Cell \u001b[0;32mIn[41], line 15\u001b[0;36m\u001b[0m\n\u001b[0;31m    extra_body={\u001b[0m\n\u001b[0m               ^\u001b[0m\n\u001b[0;31mSyntaxError\u001b[0m\u001b[0;31m:\u001b[0m invalid syntax. Perhaps you forgot a comma?\n"
     ]
    }
   ],
   "source": [
    "from openai import OpenAI\n",
    "# Set OpenAI's API key and API base to use vLLM's API server.\n",
    "openai_api_key = \"EMPTY\"\n",
    "openai_api_base = \"http://localhost:1122/v1\"\n",
    "import time\n",
    "\n",
    "client = OpenAI(\n",
    "    api_key=openai_api_key,\n",
    "    base_url=openai_api_base,\n",
    ")\n",
    "start = time.time()\n",
    "\n",
    "chat_response = client.chat.completions.create(\n",
    "    model=\"Qwen1.5-32B-Chat-GPTQ\",\n",
    "    extra_body={\n",
    "    \"guided_choice\": [\"positive\", \"negative\"]\n",
    "  },\n",
    "    messages=[\n",
    "        \n",
    "        # {\"role\": \"user\", \"content\": \"告诉我有关北京的特产\"},\n",
    "        {\"role\": \"user\", \"content\": prompt_ss02},\n",
    "    ]\n",
    "    \n",
    ")\n",
    "print(time.time() - start)\n",
    "# print(\"Chat response:\", chat_response)\n",
    "print(chat_response.choices[0].message.content)"
   ]
  },
  {
   "cell_type": "code",
   "execution_count": 42,
   "id": "b46a723d-8be6-41ff-a1a8-46e94a438c93",
   "metadata": {
    "tags": []
   },
   "outputs": [
    {
     "ename": "InternalServerError",
     "evalue": "Internal Server Error",
     "output_type": "error",
     "traceback": [
      "\u001b[0;31m---------------------------------------------------------------------------\u001b[0m",
      "\u001b[0;31mInternalServerError\u001b[0m                       Traceback (most recent call last)",
      "Cell \u001b[0;32mIn[42], line 1\u001b[0m\n\u001b[0;32m----> 1\u001b[0m completion \u001b[38;5;241m=\u001b[39m client\u001b[38;5;241m.\u001b[39mchat\u001b[38;5;241m.\u001b[39mcompletions\u001b[38;5;241m.\u001b[39mcreate(\n\u001b[1;32m      2\u001b[0m   model\u001b[38;5;241m=\u001b[39m\u001b[38;5;124m\"\u001b[39m\u001b[38;5;124mQwen1.5-32B-Chat-GPTQ\u001b[39m\u001b[38;5;124m\"\u001b[39m,\n\u001b[1;32m      3\u001b[0m   messages\u001b[38;5;241m=\u001b[39m[\n\u001b[1;32m      4\u001b[0m     {\u001b[38;5;124m\"\u001b[39m\u001b[38;5;124mrole\u001b[39m\u001b[38;5;124m\"\u001b[39m: \u001b[38;5;124m\"\u001b[39m\u001b[38;5;124muser\u001b[39m\u001b[38;5;124m\"\u001b[39m, \u001b[38;5;124m\"\u001b[39m\u001b[38;5;124mcontent\u001b[39m\u001b[38;5;124m\"\u001b[39m: \u001b[38;5;124m\"\u001b[39m\u001b[38;5;124mClassify this sentiment: vLLM is wonderful!\u001b[39m\u001b[38;5;124m\"\u001b[39m}\n\u001b[1;32m      5\u001b[0m   ],\n\u001b[1;32m      6\u001b[0m   extra_body\u001b[38;5;241m=\u001b[39m{\n\u001b[1;32m      7\u001b[0m     \u001b[38;5;124m\"\u001b[39m\u001b[38;5;124mguided_choice\u001b[39m\u001b[38;5;124m\"\u001b[39m: [\u001b[38;5;124m\"\u001b[39m\u001b[38;5;124mpositive\u001b[39m\u001b[38;5;124m\"\u001b[39m, \u001b[38;5;124m\"\u001b[39m\u001b[38;5;124mnegative\u001b[39m\u001b[38;5;124m\"\u001b[39m]\n\u001b[1;32m      8\u001b[0m   }\n\u001b[1;32m      9\u001b[0m )\n",
      "File \u001b[0;32m/data/liucd/anaconda/lib/python3.11/site-packages/openai/_utils/_utils.py:271\u001b[0m, in \u001b[0;36mrequired_args.<locals>.inner.<locals>.wrapper\u001b[0;34m(*args, **kwargs)\u001b[0m\n\u001b[1;32m    269\u001b[0m             msg \u001b[38;5;241m=\u001b[39m \u001b[38;5;124mf\u001b[39m\u001b[38;5;124m\"\u001b[39m\u001b[38;5;124mMissing required argument: \u001b[39m\u001b[38;5;132;01m{\u001b[39;00mquote(missing[\u001b[38;5;241m0\u001b[39m])\u001b[38;5;132;01m}\u001b[39;00m\u001b[38;5;124m\"\u001b[39m\n\u001b[1;32m    270\u001b[0m     \u001b[38;5;28;01mraise\u001b[39;00m \u001b[38;5;167;01mTypeError\u001b[39;00m(msg)\n\u001b[0;32m--> 271\u001b[0m \u001b[38;5;28;01mreturn\u001b[39;00m func(\u001b[38;5;241m*\u001b[39margs, \u001b[38;5;241m*\u001b[39m\u001b[38;5;241m*\u001b[39mkwargs)\n",
      "File \u001b[0;32m/data/liucd/anaconda/lib/python3.11/site-packages/openai/resources/chat/completions.py:659\u001b[0m, in \u001b[0;36mCompletions.create\u001b[0;34m(self, messages, model, frequency_penalty, function_call, functions, logit_bias, logprobs, max_tokens, n, presence_penalty, response_format, seed, stop, stream, temperature, tool_choice, tools, top_logprobs, top_p, user, extra_headers, extra_query, extra_body, timeout)\u001b[0m\n\u001b[1;32m    608\u001b[0m \u001b[38;5;129m@required_args\u001b[39m([\u001b[38;5;124m\"\u001b[39m\u001b[38;5;124mmessages\u001b[39m\u001b[38;5;124m\"\u001b[39m, \u001b[38;5;124m\"\u001b[39m\u001b[38;5;124mmodel\u001b[39m\u001b[38;5;124m\"\u001b[39m], [\u001b[38;5;124m\"\u001b[39m\u001b[38;5;124mmessages\u001b[39m\u001b[38;5;124m\"\u001b[39m, \u001b[38;5;124m\"\u001b[39m\u001b[38;5;124mmodel\u001b[39m\u001b[38;5;124m\"\u001b[39m, \u001b[38;5;124m\"\u001b[39m\u001b[38;5;124mstream\u001b[39m\u001b[38;5;124m\"\u001b[39m])\n\u001b[1;32m    609\u001b[0m \u001b[38;5;28;01mdef\u001b[39;00m \u001b[38;5;21mcreate\u001b[39m(\n\u001b[1;32m    610\u001b[0m     \u001b[38;5;28mself\u001b[39m,\n\u001b[0;32m   (...)\u001b[0m\n\u001b[1;32m    657\u001b[0m     timeout: \u001b[38;5;28mfloat\u001b[39m \u001b[38;5;241m|\u001b[39m httpx\u001b[38;5;241m.\u001b[39mTimeout \u001b[38;5;241m|\u001b[39m \u001b[38;5;28;01mNone\u001b[39;00m \u001b[38;5;241m|\u001b[39m NotGiven \u001b[38;5;241m=\u001b[39m NOT_GIVEN,\n\u001b[1;32m    658\u001b[0m ) \u001b[38;5;241m-\u001b[39m\u001b[38;5;241m>\u001b[39m ChatCompletion \u001b[38;5;241m|\u001b[39m Stream[ChatCompletionChunk]:\n\u001b[0;32m--> 659\u001b[0m     \u001b[38;5;28;01mreturn\u001b[39;00m \u001b[38;5;28mself\u001b[39m\u001b[38;5;241m.\u001b[39m_post(\n\u001b[1;32m    660\u001b[0m         \u001b[38;5;124m\"\u001b[39m\u001b[38;5;124m/chat/completions\u001b[39m\u001b[38;5;124m\"\u001b[39m,\n\u001b[1;32m    661\u001b[0m         body\u001b[38;5;241m=\u001b[39mmaybe_transform(\n\u001b[1;32m    662\u001b[0m             {\n\u001b[1;32m    663\u001b[0m                 \u001b[38;5;124m\"\u001b[39m\u001b[38;5;124mmessages\u001b[39m\u001b[38;5;124m\"\u001b[39m: messages,\n\u001b[1;32m    664\u001b[0m                 \u001b[38;5;124m\"\u001b[39m\u001b[38;5;124mmodel\u001b[39m\u001b[38;5;124m\"\u001b[39m: model,\n\u001b[1;32m    665\u001b[0m                 \u001b[38;5;124m\"\u001b[39m\u001b[38;5;124mfrequency_penalty\u001b[39m\u001b[38;5;124m\"\u001b[39m: frequency_penalty,\n\u001b[1;32m    666\u001b[0m                 \u001b[38;5;124m\"\u001b[39m\u001b[38;5;124mfunction_call\u001b[39m\u001b[38;5;124m\"\u001b[39m: function_call,\n\u001b[1;32m    667\u001b[0m                 \u001b[38;5;124m\"\u001b[39m\u001b[38;5;124mfunctions\u001b[39m\u001b[38;5;124m\"\u001b[39m: functions,\n\u001b[1;32m    668\u001b[0m                 \u001b[38;5;124m\"\u001b[39m\u001b[38;5;124mlogit_bias\u001b[39m\u001b[38;5;124m\"\u001b[39m: logit_bias,\n\u001b[1;32m    669\u001b[0m                 \u001b[38;5;124m\"\u001b[39m\u001b[38;5;124mlogprobs\u001b[39m\u001b[38;5;124m\"\u001b[39m: logprobs,\n\u001b[1;32m    670\u001b[0m                 \u001b[38;5;124m\"\u001b[39m\u001b[38;5;124mmax_tokens\u001b[39m\u001b[38;5;124m\"\u001b[39m: max_tokens,\n\u001b[1;32m    671\u001b[0m                 \u001b[38;5;124m\"\u001b[39m\u001b[38;5;124mn\u001b[39m\u001b[38;5;124m\"\u001b[39m: n,\n\u001b[1;32m    672\u001b[0m                 \u001b[38;5;124m\"\u001b[39m\u001b[38;5;124mpresence_penalty\u001b[39m\u001b[38;5;124m\"\u001b[39m: presence_penalty,\n\u001b[1;32m    673\u001b[0m                 \u001b[38;5;124m\"\u001b[39m\u001b[38;5;124mresponse_format\u001b[39m\u001b[38;5;124m\"\u001b[39m: response_format,\n\u001b[1;32m    674\u001b[0m                 \u001b[38;5;124m\"\u001b[39m\u001b[38;5;124mseed\u001b[39m\u001b[38;5;124m\"\u001b[39m: seed,\n\u001b[1;32m    675\u001b[0m                 \u001b[38;5;124m\"\u001b[39m\u001b[38;5;124mstop\u001b[39m\u001b[38;5;124m\"\u001b[39m: stop,\n\u001b[1;32m    676\u001b[0m                 \u001b[38;5;124m\"\u001b[39m\u001b[38;5;124mstream\u001b[39m\u001b[38;5;124m\"\u001b[39m: stream,\n\u001b[1;32m    677\u001b[0m                 \u001b[38;5;124m\"\u001b[39m\u001b[38;5;124mtemperature\u001b[39m\u001b[38;5;124m\"\u001b[39m: temperature,\n\u001b[1;32m    678\u001b[0m                 \u001b[38;5;124m\"\u001b[39m\u001b[38;5;124mtool_choice\u001b[39m\u001b[38;5;124m\"\u001b[39m: tool_choice,\n\u001b[1;32m    679\u001b[0m                 \u001b[38;5;124m\"\u001b[39m\u001b[38;5;124mtools\u001b[39m\u001b[38;5;124m\"\u001b[39m: tools,\n\u001b[1;32m    680\u001b[0m                 \u001b[38;5;124m\"\u001b[39m\u001b[38;5;124mtop_logprobs\u001b[39m\u001b[38;5;124m\"\u001b[39m: top_logprobs,\n\u001b[1;32m    681\u001b[0m                 \u001b[38;5;124m\"\u001b[39m\u001b[38;5;124mtop_p\u001b[39m\u001b[38;5;124m\"\u001b[39m: top_p,\n\u001b[1;32m    682\u001b[0m                 \u001b[38;5;124m\"\u001b[39m\u001b[38;5;124muser\u001b[39m\u001b[38;5;124m\"\u001b[39m: user,\n\u001b[1;32m    683\u001b[0m             },\n\u001b[1;32m    684\u001b[0m             completion_create_params\u001b[38;5;241m.\u001b[39mCompletionCreateParams,\n\u001b[1;32m    685\u001b[0m         ),\n\u001b[1;32m    686\u001b[0m         options\u001b[38;5;241m=\u001b[39mmake_request_options(\n\u001b[1;32m    687\u001b[0m             extra_headers\u001b[38;5;241m=\u001b[39mextra_headers, extra_query\u001b[38;5;241m=\u001b[39mextra_query, extra_body\u001b[38;5;241m=\u001b[39mextra_body, timeout\u001b[38;5;241m=\u001b[39mtimeout\n\u001b[1;32m    688\u001b[0m         ),\n\u001b[1;32m    689\u001b[0m         cast_to\u001b[38;5;241m=\u001b[39mChatCompletion,\n\u001b[1;32m    690\u001b[0m         stream\u001b[38;5;241m=\u001b[39mstream \u001b[38;5;129;01mor\u001b[39;00m \u001b[38;5;28;01mFalse\u001b[39;00m,\n\u001b[1;32m    691\u001b[0m         stream_cls\u001b[38;5;241m=\u001b[39mStream[ChatCompletionChunk],\n\u001b[1;32m    692\u001b[0m     )\n",
      "File \u001b[0;32m/data/liucd/anaconda/lib/python3.11/site-packages/openai/_base_client.py:1180\u001b[0m, in \u001b[0;36mSyncAPIClient.post\u001b[0;34m(self, path, cast_to, body, options, files, stream, stream_cls)\u001b[0m\n\u001b[1;32m   1166\u001b[0m \u001b[38;5;28;01mdef\u001b[39;00m \u001b[38;5;21mpost\u001b[39m(\n\u001b[1;32m   1167\u001b[0m     \u001b[38;5;28mself\u001b[39m,\n\u001b[1;32m   1168\u001b[0m     path: \u001b[38;5;28mstr\u001b[39m,\n\u001b[0;32m   (...)\u001b[0m\n\u001b[1;32m   1175\u001b[0m     stream_cls: \u001b[38;5;28mtype\u001b[39m[_StreamT] \u001b[38;5;241m|\u001b[39m \u001b[38;5;28;01mNone\u001b[39;00m \u001b[38;5;241m=\u001b[39m \u001b[38;5;28;01mNone\u001b[39;00m,\n\u001b[1;32m   1176\u001b[0m ) \u001b[38;5;241m-\u001b[39m\u001b[38;5;241m>\u001b[39m ResponseT \u001b[38;5;241m|\u001b[39m _StreamT:\n\u001b[1;32m   1177\u001b[0m     opts \u001b[38;5;241m=\u001b[39m FinalRequestOptions\u001b[38;5;241m.\u001b[39mconstruct(\n\u001b[1;32m   1178\u001b[0m         method\u001b[38;5;241m=\u001b[39m\u001b[38;5;124m\"\u001b[39m\u001b[38;5;124mpost\u001b[39m\u001b[38;5;124m\"\u001b[39m, url\u001b[38;5;241m=\u001b[39mpath, json_data\u001b[38;5;241m=\u001b[39mbody, files\u001b[38;5;241m=\u001b[39mto_httpx_files(files), \u001b[38;5;241m*\u001b[39m\u001b[38;5;241m*\u001b[39moptions\n\u001b[1;32m   1179\u001b[0m     )\n\u001b[0;32m-> 1180\u001b[0m     \u001b[38;5;28;01mreturn\u001b[39;00m cast(ResponseT, \u001b[38;5;28mself\u001b[39m\u001b[38;5;241m.\u001b[39mrequest(cast_to, opts, stream\u001b[38;5;241m=\u001b[39mstream, stream_cls\u001b[38;5;241m=\u001b[39mstream_cls))\n",
      "File \u001b[0;32m/data/liucd/anaconda/lib/python3.11/site-packages/openai/_base_client.py:869\u001b[0m, in \u001b[0;36mSyncAPIClient.request\u001b[0;34m(self, cast_to, options, remaining_retries, stream, stream_cls)\u001b[0m\n\u001b[1;32m    860\u001b[0m \u001b[38;5;28;01mdef\u001b[39;00m \u001b[38;5;21mrequest\u001b[39m(\n\u001b[1;32m    861\u001b[0m     \u001b[38;5;28mself\u001b[39m,\n\u001b[1;32m    862\u001b[0m     cast_to: Type[ResponseT],\n\u001b[0;32m   (...)\u001b[0m\n\u001b[1;32m    867\u001b[0m     stream_cls: \u001b[38;5;28mtype\u001b[39m[_StreamT] \u001b[38;5;241m|\u001b[39m \u001b[38;5;28;01mNone\u001b[39;00m \u001b[38;5;241m=\u001b[39m \u001b[38;5;28;01mNone\u001b[39;00m,\n\u001b[1;32m    868\u001b[0m ) \u001b[38;5;241m-\u001b[39m\u001b[38;5;241m>\u001b[39m ResponseT \u001b[38;5;241m|\u001b[39m _StreamT:\n\u001b[0;32m--> 869\u001b[0m     \u001b[38;5;28;01mreturn\u001b[39;00m \u001b[38;5;28mself\u001b[39m\u001b[38;5;241m.\u001b[39m_request(\n\u001b[1;32m    870\u001b[0m         cast_to\u001b[38;5;241m=\u001b[39mcast_to,\n\u001b[1;32m    871\u001b[0m         options\u001b[38;5;241m=\u001b[39moptions,\n\u001b[1;32m    872\u001b[0m         stream\u001b[38;5;241m=\u001b[39mstream,\n\u001b[1;32m    873\u001b[0m         stream_cls\u001b[38;5;241m=\u001b[39mstream_cls,\n\u001b[1;32m    874\u001b[0m         remaining_retries\u001b[38;5;241m=\u001b[39mremaining_retries,\n\u001b[1;32m    875\u001b[0m     )\n",
      "File \u001b[0;32m/data/liucd/anaconda/lib/python3.11/site-packages/openai/_base_client.py:945\u001b[0m, in \u001b[0;36mSyncAPIClient._request\u001b[0;34m(self, cast_to, options, remaining_retries, stream, stream_cls)\u001b[0m\n\u001b[1;32m    943\u001b[0m \u001b[38;5;28;01mif\u001b[39;00m retries \u001b[38;5;241m>\u001b[39m \u001b[38;5;241m0\u001b[39m \u001b[38;5;129;01mand\u001b[39;00m \u001b[38;5;28mself\u001b[39m\u001b[38;5;241m.\u001b[39m_should_retry(err\u001b[38;5;241m.\u001b[39mresponse):\n\u001b[1;32m    944\u001b[0m     err\u001b[38;5;241m.\u001b[39mresponse\u001b[38;5;241m.\u001b[39mclose()\n\u001b[0;32m--> 945\u001b[0m     \u001b[38;5;28;01mreturn\u001b[39;00m \u001b[38;5;28mself\u001b[39m\u001b[38;5;241m.\u001b[39m_retry_request(\n\u001b[1;32m    946\u001b[0m         options,\n\u001b[1;32m    947\u001b[0m         cast_to,\n\u001b[1;32m    948\u001b[0m         retries,\n\u001b[1;32m    949\u001b[0m         err\u001b[38;5;241m.\u001b[39mresponse\u001b[38;5;241m.\u001b[39mheaders,\n\u001b[1;32m    950\u001b[0m         stream\u001b[38;5;241m=\u001b[39mstream,\n\u001b[1;32m    951\u001b[0m         stream_cls\u001b[38;5;241m=\u001b[39mstream_cls,\n\u001b[1;32m    952\u001b[0m     )\n\u001b[1;32m    954\u001b[0m \u001b[38;5;66;03m# If the response is streamed then we need to explicitly read the response\u001b[39;00m\n\u001b[1;32m    955\u001b[0m \u001b[38;5;66;03m# to completion before attempting to access the response text.\u001b[39;00m\n\u001b[1;32m    956\u001b[0m \u001b[38;5;28;01mif\u001b[39;00m \u001b[38;5;129;01mnot\u001b[39;00m err\u001b[38;5;241m.\u001b[39mresponse\u001b[38;5;241m.\u001b[39mis_closed:\n",
      "File \u001b[0;32m/data/liucd/anaconda/lib/python3.11/site-packages/openai/_base_client.py:993\u001b[0m, in \u001b[0;36mSyncAPIClient._retry_request\u001b[0;34m(self, options, cast_to, remaining_retries, response_headers, stream, stream_cls)\u001b[0m\n\u001b[1;32m    989\u001b[0m \u001b[38;5;66;03m# In a synchronous context we are blocking the entire thread. Up to the library user to run the client in a\u001b[39;00m\n\u001b[1;32m    990\u001b[0m \u001b[38;5;66;03m# different thread if necessary.\u001b[39;00m\n\u001b[1;32m    991\u001b[0m time\u001b[38;5;241m.\u001b[39msleep(timeout)\n\u001b[0;32m--> 993\u001b[0m \u001b[38;5;28;01mreturn\u001b[39;00m \u001b[38;5;28mself\u001b[39m\u001b[38;5;241m.\u001b[39m_request(\n\u001b[1;32m    994\u001b[0m     options\u001b[38;5;241m=\u001b[39moptions,\n\u001b[1;32m    995\u001b[0m     cast_to\u001b[38;5;241m=\u001b[39mcast_to,\n\u001b[1;32m    996\u001b[0m     remaining_retries\u001b[38;5;241m=\u001b[39mremaining,\n\u001b[1;32m    997\u001b[0m     stream\u001b[38;5;241m=\u001b[39mstream,\n\u001b[1;32m    998\u001b[0m     stream_cls\u001b[38;5;241m=\u001b[39mstream_cls,\n\u001b[1;32m    999\u001b[0m )\n",
      "File \u001b[0;32m/data/liucd/anaconda/lib/python3.11/site-packages/openai/_base_client.py:945\u001b[0m, in \u001b[0;36mSyncAPIClient._request\u001b[0;34m(self, cast_to, options, remaining_retries, stream, stream_cls)\u001b[0m\n\u001b[1;32m    943\u001b[0m \u001b[38;5;28;01mif\u001b[39;00m retries \u001b[38;5;241m>\u001b[39m \u001b[38;5;241m0\u001b[39m \u001b[38;5;129;01mand\u001b[39;00m \u001b[38;5;28mself\u001b[39m\u001b[38;5;241m.\u001b[39m_should_retry(err\u001b[38;5;241m.\u001b[39mresponse):\n\u001b[1;32m    944\u001b[0m     err\u001b[38;5;241m.\u001b[39mresponse\u001b[38;5;241m.\u001b[39mclose()\n\u001b[0;32m--> 945\u001b[0m     \u001b[38;5;28;01mreturn\u001b[39;00m \u001b[38;5;28mself\u001b[39m\u001b[38;5;241m.\u001b[39m_retry_request(\n\u001b[1;32m    946\u001b[0m         options,\n\u001b[1;32m    947\u001b[0m         cast_to,\n\u001b[1;32m    948\u001b[0m         retries,\n\u001b[1;32m    949\u001b[0m         err\u001b[38;5;241m.\u001b[39mresponse\u001b[38;5;241m.\u001b[39mheaders,\n\u001b[1;32m    950\u001b[0m         stream\u001b[38;5;241m=\u001b[39mstream,\n\u001b[1;32m    951\u001b[0m         stream_cls\u001b[38;5;241m=\u001b[39mstream_cls,\n\u001b[1;32m    952\u001b[0m     )\n\u001b[1;32m    954\u001b[0m \u001b[38;5;66;03m# If the response is streamed then we need to explicitly read the response\u001b[39;00m\n\u001b[1;32m    955\u001b[0m \u001b[38;5;66;03m# to completion before attempting to access the response text.\u001b[39;00m\n\u001b[1;32m    956\u001b[0m \u001b[38;5;28;01mif\u001b[39;00m \u001b[38;5;129;01mnot\u001b[39;00m err\u001b[38;5;241m.\u001b[39mresponse\u001b[38;5;241m.\u001b[39mis_closed:\n",
      "File \u001b[0;32m/data/liucd/anaconda/lib/python3.11/site-packages/openai/_base_client.py:993\u001b[0m, in \u001b[0;36mSyncAPIClient._retry_request\u001b[0;34m(self, options, cast_to, remaining_retries, response_headers, stream, stream_cls)\u001b[0m\n\u001b[1;32m    989\u001b[0m \u001b[38;5;66;03m# In a synchronous context we are blocking the entire thread. Up to the library user to run the client in a\u001b[39;00m\n\u001b[1;32m    990\u001b[0m \u001b[38;5;66;03m# different thread if necessary.\u001b[39;00m\n\u001b[1;32m    991\u001b[0m time\u001b[38;5;241m.\u001b[39msleep(timeout)\n\u001b[0;32m--> 993\u001b[0m \u001b[38;5;28;01mreturn\u001b[39;00m \u001b[38;5;28mself\u001b[39m\u001b[38;5;241m.\u001b[39m_request(\n\u001b[1;32m    994\u001b[0m     options\u001b[38;5;241m=\u001b[39moptions,\n\u001b[1;32m    995\u001b[0m     cast_to\u001b[38;5;241m=\u001b[39mcast_to,\n\u001b[1;32m    996\u001b[0m     remaining_retries\u001b[38;5;241m=\u001b[39mremaining,\n\u001b[1;32m    997\u001b[0m     stream\u001b[38;5;241m=\u001b[39mstream,\n\u001b[1;32m    998\u001b[0m     stream_cls\u001b[38;5;241m=\u001b[39mstream_cls,\n\u001b[1;32m    999\u001b[0m )\n",
      "File \u001b[0;32m/data/liucd/anaconda/lib/python3.11/site-packages/openai/_base_client.py:960\u001b[0m, in \u001b[0;36mSyncAPIClient._request\u001b[0;34m(self, cast_to, options, remaining_retries, stream, stream_cls)\u001b[0m\n\u001b[1;32m    957\u001b[0m         err\u001b[38;5;241m.\u001b[39mresponse\u001b[38;5;241m.\u001b[39mread()\n\u001b[1;32m    959\u001b[0m     log\u001b[38;5;241m.\u001b[39mdebug(\u001b[38;5;124m\"\u001b[39m\u001b[38;5;124mRe-raising status error\u001b[39m\u001b[38;5;124m\"\u001b[39m)\n\u001b[0;32m--> 960\u001b[0m     \u001b[38;5;28;01mraise\u001b[39;00m \u001b[38;5;28mself\u001b[39m\u001b[38;5;241m.\u001b[39m_make_status_error_from_response(err\u001b[38;5;241m.\u001b[39mresponse) \u001b[38;5;28;01mfrom\u001b[39;00m \u001b[38;5;28;01mNone\u001b[39;00m\n\u001b[1;32m    962\u001b[0m \u001b[38;5;28;01mreturn\u001b[39;00m \u001b[38;5;28mself\u001b[39m\u001b[38;5;241m.\u001b[39m_process_response(\n\u001b[1;32m    963\u001b[0m     cast_to\u001b[38;5;241m=\u001b[39mcast_to,\n\u001b[1;32m    964\u001b[0m     options\u001b[38;5;241m=\u001b[39moptions,\n\u001b[0;32m   (...)\u001b[0m\n\u001b[1;32m    967\u001b[0m     stream_cls\u001b[38;5;241m=\u001b[39mstream_cls,\n\u001b[1;32m    968\u001b[0m )\n",
      "\u001b[0;31mInternalServerError\u001b[0m: Internal Server Error"
     ]
    }
   ],
   "source": [
    "completion = client.chat.completions.create(\n",
    "  model=\"Qwen1.5-32B-Chat-GPTQ\",\n",
    "  messages=[\n",
    "    {\"role\": \"user\", \"content\": \"Classify this sentiment: vLLM is wonderful!\"}\n",
    "  ],\n",
    "  extra_body={\n",
    "    \"guided_choice\": [\"positive\", \"negative\"]\n",
    "  }\n",
    ")"
   ]
  },
  {
   "cell_type": "code",
   "execution_count": 5,
   "id": "3e201ee9-f5a2-450f-a28f-e40f79a30585",
   "metadata": {
    "tags": []
   },
   "outputs": [
    {
     "name": "stdout",
     "output_type": "stream",
     "text": [
      "你是一位资深医学专家，目前需要从报告'检查所见'中的关于肺结节的核心字段，主要包括'原文句子','结节部位','结节大小','结节类型','结节边界', '淋巴结情况', 需要从'检查诊断'中的信息用于提取“LUNG-RADs”字段，然后输出一个json格便于后续的处理, 返回形式类似 list of dict 格式:\n",
      "\n",
      "#要求：\n",
      "1、请输出一个合法的 JSON 字符串, 参考 sample output 的输出格式;\n",
      "2、“检查所见”字段信息需要抽取对应原文，找到肺结节相关信息;\n",
      "3、“检查所见”字段信息不需要抽取原文，需要协助找到\"LUNG-RADs\"的值，只有“结节类型”为肺结节类型时，才能有值，否则为空\"-\";\n",
      "\n",
      "\n",
      "#example:\n",
      "#sample input：\n",
      "检查所见: 左肺上、下叶见多发团片状、斑点、结节高密度影，边界不清，左肺上叶为著伴钙化，周围见多发类结节影，邻近胸膜粘连增厚；左肺上叶体积缩小；左侧胸腔内可见积气、积液及引流管影；另两肺见多发小结节影，直径约3-4mm，界清；余两肺纹理略增多，未见明显异常密度占位影；两肺门结构尚清，纵隔居中，其内未见明显肿大淋巴结；右侧胸腔、心包腔内未见明显积液影；心影无殊.\n",
      "\n",
      "检查诊断: 对比2023-03-29片： 1.左肺多发多形性病变，左肺上叶为著，左侧胸膜增厚，VP-RADS 2类，结核首先考虑，请结合临床实验室检查及治疗后复查。 2.左侧液气胸胸腔闭式引流术后改变，积气较前略吸收。 3.两肺多发小结节，LUNG-RADs:2类，大致相仿，建议年度复查。 附见：肝内致密影。\n",
      "\n",
      "#sample output:\n",
      "[\n",
      "    {\n",
      "        '原文句子': '左肺上、下叶见多发团片状、斑点、结节高密度影，边界不清，左肺上叶为著伴钙化，周围见多发类结节影，邻近胸膜粘连增厚',\n",
      "        '结节部位': '左肺上、下叶',\n",
      "        '结节大小': '-',\n",
      "        '结节类型': '团片状、斑点、结节高密度影,钙化',\n",
      "        '结节边界': '边界不清',\n",
      "        '淋巴结情况': '-',\n",
      "        'LUNG-RADs': '2类',\n",
      "    },\n",
      "    {\n",
      "        '原文句子': '另两肺见多发小结节影，直径约3-4mm，界清',\n",
      "        '结节部位': '两肺',\n",
      "        '结节大小': '直径约3-4mm',\n",
      "        '结节类型': '小结节影',\n",
      "        '结节边界': '界清',\n",
      "        '淋巴结情况': '-',\n",
      "        'LUNG-RADs': '2类',\n",
      "    },\n",
      "]\n",
      "\n",
      "#input:\n",
      "检查所见:左肺上、下叶见多发团片状、斑点、结节高密度影，边界不清，左肺上叶为著伴钙化，周围见多发类结节影，邻近胸膜粘连增厚；左肺上叶体积缩小；左侧胸腔内可见积气、积液及引流管影；另两肺见多发小结节影，直径约3-4mm，界清；余两肺纹理略增多，未见明显异常密度占位影；两肺门结构尚清，纵隔居中，其内未见明显肿大淋巴结；右侧胸腔、心包腔内未见明显积液影；心影无殊.\n",
      "\n",
      "检查诊断:对比2023-03-29片： 1.左肺多发多形性病变，左肺上叶为著，左侧胸膜增厚，VP-RADS 2类，结核首先考虑，请结合临床实验室检查及治疗后复查。 2.左侧液气胸胸腔闭式引流术后改变，积气较前略吸收。 3.两肺多发小结节，LUNG-RADs:2类，大致相仿，建议年度复查。 附见：肝内致密影。\n",
      "\n",
      "#output:\n",
      "\n",
      "\n"
     ]
    }
   ],
   "source": [
    "temp_jianchasuojian = '左肺上、下叶见多发团片状、斑点、结节高密度影，边界不清，左肺上叶为著伴钙化，周围见多发类结节影，邻近胸膜粘连增厚；左肺上叶体积缩小；左侧胸腔内可见积气、积液及引流管影；另两肺见多发小结节影，直径约3-4mm，界清；余两肺纹理略增多，未见明显异常密度占位影；两肺门结构尚清，纵隔居中，其内未见明显肿大淋巴结；右侧胸腔、心包腔内未见明显积液影；心影无殊.'\n",
    "temp_jianchazhenduan = '对比2023-03-29片： 1.左肺多发多形性病变，左肺上叶为著，左侧胸膜增厚，VP-RADS 2类，结核首先考虑，请结合临床实验室检查及治疗后复查。 2.左侧液气胸胸腔闭式引流术后改变，积气较前略吸收。 3.两肺多发小结节，LUNG-RADs:2类，大致相仿，建议年度复查。 附见：肝内致密影。'\n",
    "\n",
    "prompt_ss02 = f'你是一位资深医学专家，目前需要从报告\\'检查所见\\'中的关于肺结节的核心字段，主要包括\\'原文句子\\',\\'结节部位\\',\\'结节大小\\',\\'结节类型\\',\\'结节边界\\', \\'淋巴结情况\\', 需要从\\'检查诊断\\'中的信息用于提取“LUNG-RADs”字段，然后输出一个json格便于后续的处理, 返回形式类似 list of dict 格式:\\n\\n#要求：\\n1、请输出一个合法的 JSON 字符串, 参考 sample output 的输出格式;\\n2、“检查所见”字段信息需要抽取对应原文，找到肺结节相关信息;\\n3、“检查所见”字段信息不需要抽取原文，需要协助找到\"LUNG-RADs\"的值，只有“结节类型”为肺结节类型时，才能有值，否则为空\"-\";\\n\\n\\n#example:\\n#sample input：\\n检查所见: 左肺上、下叶见多发团片状、斑点、结节高密度影，边界不清，左肺上叶为著伴钙化，周围见多发类结节影，邻近胸膜粘连增厚；左肺上叶体积缩小；左侧胸腔内可见积气、积液及引流管影；另两肺见多发小结节影，直径约3-4mm，界清；余两肺纹理略增多，未见明显异常密度占位影；两肺门结构尚清，纵隔居中，其内未见明显肿大淋巴结；右侧胸腔、心包腔内未见明显积液影；心影无殊.\\n\\n检查诊断: 对比2023-03-29片： 1.左肺多发多形性病变，左肺上叶为著，左侧胸膜增厚，VP-RADS 2类，结核首先考虑，请结合临床实验室检查及治疗后复查。 2.左侧液气胸胸腔闭式引流术后改变，积气较前略吸收。 3.两肺多发小结节，LUNG-RADs:2类，大致相仿，建议年度复查。 附见：肝内致密影。\\n\\n#sample output:\\n[\\n    {{\\n        \\'原文句子\\': \\'左肺上、下叶见多发团片状、斑点、结节高密度影，边界不清，左肺上叶为著伴钙化，周围见多发类结节影，邻近胸膜粘连增厚\\',\\n        \\'结节部位\\': \\'左肺上、下叶\\',\\n        \\'结节大小\\': \\'-\\',\\n        \\'结节类型\\': \\'团片状、斑点、结节高密度影,钙化\\',\\n        \\'结节边界\\': \\'边界不清\\',\\n        \\'淋巴结情况\\': \\'-\\',\\n        \\'LUNG-RADs\\': \\'2类\\',\\n    }},\\n    {{\\n        \\'原文句子\\': \\'另两肺见多发小结节影，直径约3-4mm，界清\\',\\n        \\'结节部位\\': \\'两肺\\',\\n        \\'结节大小\\': \\'直径约3-4mm\\',\\n        \\'结节类型\\': \\'小结节影\\',\\n        \\'结节边界\\': \\'界清\\',\\n        \\'淋巴结情况\\': \\'-\\',\\n        \\'LUNG-RADs\\': \\'2类\\',\\n    }},\\n]\\n\\n#input:\\n检查所见:{temp_jianchasuojian}\\n\\n检查诊断:{temp_jianchazhenduan}\\n\\n#output:\\n\\n'\n",
    "print(prompt_ss02)"
   ]
  },
  {
   "cell_type": "code",
   "execution_count": null,
   "id": "fff9eb1b-4bfc-4670-96e7-ead15092322d",
   "metadata": {},
   "outputs": [],
   "source": [
    "import openai\n",
    "\n",
    "\n",
    "openai.api_key = \"EMPTY\"\n",
    "openai.api_base = \"http://localhost:1122/v1\"\n",
    "\n",
    "\n",
    "# 调用 Chat API 并设置 top_p 参数\n",
    "response = openai.ChatCompletion.create(\n",
    "    model=\"Qwen1.5-32B-Chat-GPTQ\",  # 使用的模型，可以是 gpt-4 或其他\n",
    "    messages=[\n",
    "        {\"role\": \"system\", \"content\": \"You are a helpful assistant.\"},\n",
    "        {\"role\": \"user\", \"content\": \"给我讲个笑话\"}\n",
    "    ],\n",
    "    max_tokens=50,\n",
    "    n=1,\n",
    "    stop=None,\n",
    "    temperature=0.7,\n",
    "    top_p=0.9  # 设置 top_p 参数\n",
    ")\n",
    "\n",
    "# 打印响应\n",
    "print(response['choices'][0]['message']['content'].strip())\n"
   ]
  },
  {
   "cell_type": "code",
   "execution_count": 59,
   "id": "b5b8e708-0987-41a8-a3f9-f4a67f353023",
   "metadata": {
    "tags": []
   },
   "outputs": [
    {
     "name": "stdout",
     "output_type": "stream",
     "text": [
      "{   \n",
      "    \"部位\": [\n",
      "        \"左肺上、下叶\",\n",
      "        \"两肺\"\n",
      "    ],\n",
      "    \"大小\": [\n",
      "        \"-\",\n",
      "        \"直径约3-4mm\"\n",
      "    ]   \n",
      "    }\n"
     ]
    }
   ],
   "source": [
    "from openai import OpenAI\n",
    "from typing import List\n",
    "from pydantic import BaseModel\n",
    "\n",
    "model_name = \"Qwen1.5-32B-Chat-GPTQ\" # \n",
    "openai_api_base = \"http://localhost:1122/v1/\"\n",
    "\n",
    "client = OpenAI(\n",
    "    api_key=\"EMPTY\",\n",
    "    base_url=openai_api_base,\n",
    ")\n",
    "\n",
    "temp_jianchasuojian = '左肺上、下叶见多发团片状、斑点、结节高密度影，边界不清，左肺上叶为著伴钙化，周围见多发类结节影，邻近胸膜粘连增厚；左肺上叶体积缩小；左侧胸腔内可见积气、积液及引流管影；另两肺见多发小结节影，直径约3-4mm，界清；余两肺纹理略增多，未见明显异常密度占位影；两肺门结构尚清，纵隔居中，其内未见明显肿大淋巴结；右侧胸腔、心包腔内未见明显积液影；心影无殊.'\n",
    "temp_jianchazhenduan = '对比2023-03-29片： 1.左肺多发多形性病变，左肺上叶为著，左侧胸膜增厚，VP-RADS 2类，结核首先考虑，请结合临床实验室检查及治疗后复查。 2.左侧液气胸胸腔闭式引流术后改变，积气较前略吸收。 3.两肺多发小结节，LUNG-RADs:2类，大致相仿，建议年度复查。 附见：肝内致密影。'\n",
    "\n",
    "prompt_ss02 = f'你是一位资深医学专家，目前需要从报告\\'检查所见\\'中的关于肺结节的核心字段，主要包括\\'原文句子\\',\\'结节部位\\',\\'结节大小\\',\\'结节类型\\',\\'结节边界\\', \\'淋巴>结情况\\', 需要从\\'检查诊断\\'中的信息用于提取“LUNG-RADs”字段，然后输出一个json格便于后续的处理, 返回形式类似 list of dict 格式:\\n\\n#要求：\\n1、请输出一个合法的 JSON 字符串, 参考 sample output 的输出格式;\\n2、“检查所见”字段信息需要抽取对应原文，找到肺结节相关信息;\\n3、“检查所见”字段信息不需要抽取原文，需要协助找到\"LUNG-RADs\"的值，只有“结节类>型”为肺结节类型时，才能有值，否则为空\"-\";\\n\\n\\n#example:\\n#sample input：\\n检查所见: 左肺上、下叶见多发团片状、斑点、结节高密度影，边界不清，左肺上叶为著伴钙化，周围见多发类结节影，邻近胸膜粘连增厚；左肺上叶体积缩小；左侧胸腔内可见积气、积液及引流管影；另两肺见多发小结节影，直径约3-4mm，界清；余两肺纹理略增多，未见明显异常密度占位影；两肺门结构尚清，纵隔居中，其内未见明显肿大淋巴结；右侧胸腔、心包腔内未见明显积液影；心影无殊.\\n\\n检查诊断: 对比2023-03-29片： 1.左肺多发多形性病变，左肺上叶为著，左侧胸膜增厚，VP-RADS 2类，结核首先考虑，请结合临床实验室检查及治疗后复查。 2.左侧液气胸胸腔闭式引流术后改变，积气较前略吸收。 3.两肺多发小结节，LUNG-RADs:2类，大致相仿，建议年度复查。 >附见：肝内致密影。\\n\\n#sample output:\\n[\\n    {{\\n        \\'原文句子\\': \\'左肺上、下叶见多发团片状、斑点、结节高密度影，边界不清，左肺上叶为著伴钙化，周围见多发类结节影，>邻近胸膜粘连增厚\\',\\n        \\'结节部位\\': \\'左肺上、下叶\\',\\n        \\'结节大小\\': \\'-\\',\\n        \\'结节类型\\': \\'团片状、斑点、结节高密度影,钙化\\',\\n        \\'结节边界\\': \\'边界不清\\',\\n        \\'淋巴结情况\\': \\'-\\',\\n        \\'LUNG-RADs\\': \\'2类\\',\\n    }},\\n    {{\\n        \\'原文句子\\': \\'另两肺见多发小结节影，直径约3-4mm，界清\\',\\n        \\'结节部位\\': \\'两肺\\',\\n        \\'结节大小\\': \\'直径约3-4mm\\',\\n        \\'结节类型\\': \\'小结节影\\',\\n        \\'结节边界\\': \\'界清\\',\\n        \\'淋巴结情况\\': \\'-\\',\\n        \\'LUNG-RADs\\': \\'2类\\',\\n    }},\\n]\\n\\n#input:\\n检查所见:{temp_jianchasuojian}\\n\\n检查诊断:{temp_jianchazhenduan}\\n\\n#output:\\n\\n'\n",
    "\n",
    "class LungNode(BaseModel):\n",
    "    部位: List[str]\n",
    "    大小: List[str] \n",
    "    \n",
    "json_template = LungNode.schema()\n",
    "\n",
    "completion = client.chat.completions.create(\n",
    "    model=model_name,\n",
    "    messages=[\n",
    "        {\"role\": \"user\", \"content\": prompt_ss02},\n",
    "    ],\n",
    "\n",
    "    extra_body={\n",
    "        \"guided_json\":json_template,\n",
    "        \"response_format\":{'type': 'json_object'}\n",
    "}\n",
    ")\n",
    "res_content = completion.choices[0].message.content\n",
    "print(res_content)\n"
   ]
  },
  {
   "cell_type": "code",
   "execution_count": 49,
   "id": "1c47afe4-92eb-4fa3-aa25-b42e6c78a8ad",
   "metadata": {
    "tags": []
   },
   "outputs": [],
   "source": [
    "from pydantic import BaseModel\n",
    "from typing import List\n",
    "\n",
    "class User(BaseModel):\n",
    "    id: int\n",
    "    name: str\n",
    "    email: str\n",
    "    tags: List[str]  # 定义一个字符串类型的列表\n"
   ]
  },
  {
   "cell_type": "code",
   "execution_count": 58,
   "id": "3cd13595-94d8-4fd2-b5d3-10ffcd3f8ffd",
   "metadata": {
    "tags": []
   },
   "outputs": [
    {
     "data": {
      "text/plain": [
       "{'properties': {'部位': {'items': {'type': 'string'},\n",
       "   'title': '部位',\n",
       "   'type': 'array'},\n",
       "  '大小': {'items': {'type': 'string'}, 'title': '大小', 'type': 'array'}},\n",
       " 'required': ['部位', '大小'],\n",
       " 'title': 'LungNode',\n",
       " 'type': 'object'}"
      ]
     },
     "execution_count": 58,
     "metadata": {},
     "output_type": "execute_result"
    }
   ],
   "source": [
    "\n",
    "from pydantic import BaseModel\n",
    "\n",
    "class LungNode(BaseModel):\n",
    "    部位: List[str]\n",
    "    大小: List[str] \n",
    "    \n",
    "json_template = LungNode.schema()\n",
    "json_template"
   ]
  },
  {
   "cell_type": "code",
   "execution_count": 19,
   "id": "f4a9ebb3-1460-48ef-9541-016696d8bb36",
   "metadata": {
    "tags": []
   },
   "outputs": [
    {
     "data": {
      "text/plain": [
       "'你是一位资深医学专家，目前需要从报告\\'检查所见\\'中的关于肺结节的核心字段，主要包括\\'原文句子\\',\\'结节部位\\',\\'结节大小\\',\\'结节类型\\',\\'结节边界\\', \\'淋巴>结情况\\', 需要从\\'检查诊断\\'中的信息用于提取“LUNG-RADs”字段，然后输出一个json格便于后续的处理, 返回形式类似 list of dict 格式:\\n\\n#要求：\\n1、请输出一个合法的 JSON 字符串, 参考 sample output 的输出格式;\\n2、“检查所见”字段信息需要抽取对应原文，找到肺结节相关信息;\\n3、“检查所见”字段信息不需要抽取原文，需要协助找到\"LUNG-RADs\"的值，只有“结节类>型”为肺结节类型时，才能有值，否则为空\"-\";\\n\\n\\n#example:\\n#sample input：\\n检查所见: 左肺上、下叶见多发团片状、斑点、结节高密度影，边界不清，左肺上叶为著伴钙化，周围见多发类结节影，邻近胸膜粘连增厚；左肺上叶体积缩小；左侧胸腔内可见积气、积液及引流管影；另两肺见多发小结节影，直径约3-4mm，界清；余两肺纹理略增多，未见明显异常密度占位影；两肺门结构尚清，纵隔居中，其内未见明显肿大淋巴结；右侧胸腔、心包腔内未见明显积液影；心影无殊.\\n\\n检查诊断: 对比2023-03-29片： 1.左肺多发多形性病变，左肺上叶为著，左侧胸膜增厚，VP-RADS 2类，结核首先考虑，请结合临床实验室检查及治疗后复查。 2.左侧液气胸胸腔闭式引流术后改变，积气较前略吸收。 3.两肺多发小结节，LUNG-RADs:2类，大致相仿，建议年度复查。 >附见：肝内致密影。\\n\\n#sample output:\\n[\\n    {\\n        \\'原文句子\\': \\'左肺上、下叶见多发团片状、斑点、结节高密度影，边界不清，左肺上叶为著伴钙化，周围见多发类结节影，>邻近胸膜粘连增厚\\',\\n        \\'结节部位\\': \\'左肺上、下叶\\',\\n        \\'结节大小\\': \\'-\\',\\n        \\'结节类型\\': \\'团片状、斑点、结节高密度影,钙化\\',\\n        \\'结节边界\\': \\'边界不清\\',\\n        \\'淋巴结情况\\': \\'-\\',\\n        \\'LUNG-RADs\\': \\'2类\\',\\n    },\\n    {\\n        \\'原文句子\\': \\'另两肺见多发小结节影，直径约3-4mm，界清\\',\\n        \\'结节部位\\': \\'两肺\\',\\n        \\'结节大小\\': \\'直径约3-4mm\\',\\n        \\'结节类型\\': \\'小结节影\\',\\n        \\'结节边界\\': \\'界清\\',\\n        \\'淋巴结情况\\': \\'-\\',\\n        \\'LUNG-RADs\\': \\'2类\\',\\n    },\\n]\\n\\n#input:\\n检查所见:左肺上、下叶见多发团片状、斑点、结节高密度影，边界不清，左肺上叶为著伴钙化，周围见多发类结节影，邻近胸膜粘连增厚；左肺上叶体积缩小；左侧胸腔内可见积气、积液及引流管影；另两肺见多发小结节影，直径约3-4mm，界清；余两肺纹理略增多，未见明显异常密度占位影；两肺门结构尚清，纵隔居中，其内未见明显肿大淋巴结；右侧胸腔、心包腔内未见明显积液影；心影无殊.\\n\\n检查诊断:对比2023-03-29片： 1.左肺多发多形性病变，左肺上叶为著，左侧胸膜增厚，VP-RADS 2类，结核首先考虑，请结合临床实验室检查及治疗后复查。 2.左侧液气胸胸腔闭式引流术后改变，积气较前略吸收。 3.两肺多发小结节，LUNG-RADs:2类，大致相仿，建议年度复查。 附见：肝内致密影。\\n\\n#output:\\n\\n'"
      ]
     },
     "execution_count": 19,
     "metadata": {},
     "output_type": "execute_result"
    }
   ],
   "source": [
    "\n",
    "json_template= {\n",
    "    \"type\": \"object\",\n",
    "    \"properties\": {\n",
    "        \"first_key\": {\n",
    "            \"type\": \"array\",\n",
    "            \"items\": {\"type\": \"string\"},\n",
    "            \"minItems\": 1\n",
    "            },\n",
    "        \"another_key\": {\n",
    "            \"type\": \"array\",\n",
    "            \"items\": {\"type\": \"string\"},\n",
    "            \"minItems\": 1\n",
    "            },\n",
    "   # \"required\": [\"first_key\", \"another_key\"]\n",
    "    }\n",
    "}\n",
    "\n"
   ]
  },
  {
   "cell_type": "code",
   "execution_count": null,
   "id": "7ee6605e-b73a-4fac-a215-f7838af016b7",
   "metadata": {
    "tags": []
   },
   "outputs": [],
   "source": []
  },
  {
   "cell_type": "code",
   "execution_count": 1,
   "id": "94f41b06-d9e9-4970-a91a-7912cb766929",
   "metadata": {
    "tags": []
   },
   "outputs": [],
   "source": [
    "import os"
   ]
  },
  {
   "cell_type": "code",
   "execution_count": 77,
   "id": "8fc4e2b0-9a75-4b99-8bfd-f989d7e6abda",
   "metadata": {
    "tags": []
   },
   "outputs": [
    {
     "name": "stdout",
     "output_type": "stream",
     "text": [
      "{\n",
      "    \"部位\": [\n",
      "        \"左肺上、下叶\",\n",
      "        \"两肺\"\n",
      "    ],\n",
      "    \"大小\": [\n",
      "        \"-\",\n",
      "        \"直径约3-4mm\"\n",
      "    ]\n",
      "    }\n",
      "{\"city\": \"三亚\", \"date\": \"2020-04-16\"}\n",
      "我是甄嬛，家父是大理寺少卿甄远道。\n"
     ]
    }
   ],
   "source": [
    "from openai import OpenAI\n",
    "import time\n",
    "from typing import List\n",
    "from pydantic import BaseModel\n",
    "\n",
    "\n",
    "# 非量化版本: 7B 模型\n",
    "\"\"\"\n",
    "python -m vllm.entrypoints.openai.api_server --served-model-name Qwen1.5-7B-Chat \\\n",
    "      --model /data/liucd/langchain/Qwen/Qwen1___5-7B-Chat  --port 1122 \\\n",
    "     --enable-lora  --max-lora-rank 64 \\\n",
    "      --lora-modules weather-lora=/data/liucd/Lora/对话_Qwen1.5/peft_qwen1.5/qwen_output_weather  huanhuan-lora=/data/liucd/Lora/对话_Qwen1.5/peft_qwen1.5/qwen_output_huanhuan\n",
    "\"\"\"\n",
    "\n",
    "\n",
    "# Set OpenAI's API key and API base to use vLLM's API server.\n",
    "openai_api_key = \"EMPTY\"\n",
    "openai_api_base = \"http://localhost:1122/v1\"\n",
    "\n",
    "\n",
    "client = OpenAI(\n",
    "    api_key=openai_api_key,\n",
    "    base_url=openai_api_base,\n",
    ")\n",
    "\n",
    "prompt_weather='''\n",
    "给定一句话：“2020年4月16号三亚下雨么?”，请你按步骤要求工作。\n",
    "\n",
    "步骤1：识别这句话中的城市和日期共2个信息\n",
    "步骤2：根据城市和日期信息，生成JSON字符串，格式为{\"city\":城市,\"date\":日期}\n",
    "\n",
    "请问，这个JSON字符串是：\n",
    "''' \n",
    "\n",
    "prompt_huanhuan = '你是谁'\n",
    "\n",
    "\n",
    "temp_jianchasuojian = '左肺上、下叶见多发团片状、斑点、结节高密度影，边界不清，左肺上叶为著伴钙化，周围见多发类结节影，邻近胸膜粘连增厚；左肺上叶体积缩小；左侧胸腔内可见积气、积液及引流管影；另两肺见多发小结节影，直径约3-4mm，界清；余两肺纹理略增多，未见明显异常密度占位影；两肺门结构尚清，纵隔居中，其内未见明显肿大淋巴结；右侧胸腔、心包腔内未见明显积液影；心影无殊.'\n",
    "temp_jianchazhenduan = '对比2023-03-29片： 1.左肺多发多形性病变，左肺上叶为著，左侧胸膜增厚，VP-RADS 2类，结核首先考虑，请结合临床实验室检查及治疗后复查。 2.左侧液气胸胸腔闭式引流术后改变，积气较前略吸收。 3.两肺多发小结节，LUNG-RADs:2类，大致相仿，建议年度复查。 附见：肝内致密影。'\n",
    "\n",
    "prompt_base = f'你是一位资深医学专家，目前需要从报告\\'检查所见\\'中的关于肺结节的核心字段，主要包括\\'原文句子\\',\\'结节部位\\',\\'结节大小\\',\\'结节类型\\',\\'结节边界\\', \\'淋巴>结情况\\', 需要从\\'检查诊断\\'中的信息用于提取“LUNG-RADs”字段，然后输出一个json格便于后续的处理, 返回形式类似 list of dict 格式:\\n\\n#要求：\\n1、请输出一个合法的 JSON 字符串, 参考 sample output 的输出格式;\\n2、“检查所见”字段信息需要抽取对应原文，找到肺结节相关信息;\\n3、“检查所见”字段信息不需要抽取原文，需要协助找到\"LUNG-RADs\"的值，只有“结节类>型”为肺结节类型时，才能有值，否则为空\"-\";\\n\\n\\n#example:\\n#sample input：\\n检查所见: 左肺上、下叶见多发团片状、斑点、结节高密度影，边界不清，左肺上叶为著伴钙化，周围见多发类结节影，邻近胸膜粘连增厚；左肺上叶体积缩小；左侧胸腔内可见积气、积液及引流管影；另两肺见多发小结节影，直径约3-4mm，界清；余两肺纹理略增多，未见明显异常密度占位影；两肺门结构尚清，纵隔居中，其内未见明显肿大淋巴结；右侧胸腔、心包腔内未见明显积液影；心影无殊.\\n\\n检查诊断: 对比2023-03-29片： 1.左肺多发多形性病变，左肺上叶为著，左侧胸膜增厚，VP-RADS 2类，结核首先考虑，请结合临床实验室检查及治疗后复查。 2.左侧液气胸胸腔闭式引流术后改变，积气较前略吸收。 3.两肺多发小结节，LUNG-RADs:2类，大致相仿，建议年度复查。 >附见：肝内致密影。\\n\\n#sample output:\\n[\\n    {{\\n        \\'原文句子\\': \\'左肺上、下叶见多发团片状、斑点、结节高密度影，边界不清，左肺上叶为著伴钙化，周围见多发类结节影，>邻近胸膜粘连增厚\\',\\n        \\'结节部位\\': \\'左肺上、下叶\\',\\n        \\'结节大小\\': \\'-\\',\\n        \\'结节类型\\': \\'团片状、斑点、结节高密度影,钙化\\',\\n        \\'结节边界\\': \\'边界不清\\',\\n        \\'淋巴结情况\\': \\'-\\',\\n        \\'LUNG-RADs\\': \\'2类\\',\\n    }},\\n    {{\\n        \\'原文句子\\': \\'另两肺见多发小结节影，直径约3-4mm，界清\\',\\n        \\'结节部位\\': \\'两肺\\',\\n        \\'结节大小\\': \\'直径约3-4mm\\',\\n        \\'结节类型\\': \\'小结节影\\',\\n        \\'结节边界\\': \\'界清\\',\\n        \\'淋巴结情况\\': \\'-\\',\\n        \\'LUNG-RADs\\': \\'2类\\',\\n    }},\\n]\\n\\n#input:\\n检查所见:{temp_jianchasuojian}\\n\\n检查诊断:{temp_jianchazhenduan}\\n\\n#output:\\n\\n'\n",
    "\n",
    "class LungNode(BaseModel):\n",
    "    部位: List[str]\n",
    "    大小: List[str] \n",
    "    \n",
    "json_template = LungNode.schema()\n",
    "\n",
    "\n",
    "# base 调用\n",
    "chat_response = client.chat.completions.create(\n",
    "    model='Qwen1.5-7B-Chat',\n",
    "    messages=[\n",
    "        {\"role\": \"user\", \"content\": prompt_base},\n",
    "    ],\n",
    "\n",
    "    extra_body={\n",
    "        \"guided_json\":json_template,\n",
    "        \"response_format\":{'type': 'json_object'}\n",
    "    }\n",
    ")\n",
    "\n",
    "print(chat_response.choices[0].message.content)\n",
    "\n",
    "# 天气调用\n",
    "chat_response = client.chat.completions.create(\n",
    "    model = 'weather-lora',\n",
    "    messages=[\n",
    "        \n",
    "        {\"role\": \"system\", \"content\": \"你是一个人工智能助手\"},\n",
    "        {\"role\": \"user\", \"content\": prompt_weather},\n",
    "    ]\n",
    ")\n",
    "print(chat_response.choices[0].message.content)\n",
    "\n",
    "# huanhuan\n",
    "chat_response = client.chat.completions.create(\n",
    "    \n",
    "    model = 'huanhuan-lora',\n",
    "    messages=[\n",
    "        \n",
    "        {\"role\": \"system\", \"content\": \"现在你要扮演皇帝身边的女人--甄嬛\"},\n",
    "        {\"role\": \"user\", \"content\": prompt_huanhuan},\n",
    "    ]\n",
    ")\n",
    "print(chat_response.choices[0].message.content)\n",
    "\n"
   ]
  },
  {
   "cell_type": "code",
   "execution_count": null,
   "id": "e34c87a6-b6cd-4356-babd-f93c276da142",
   "metadata": {
    "tags": []
   },
   "outputs": [],
   "source": []
  },
  {
   "cell_type": "code",
   "execution_count": null,
   "id": "2ee2e912-6c11-4b23-a674-f063e9496e49",
   "metadata": {
    "tags": []
   },
   "outputs": [],
   "source": []
  },
  {
   "cell_type": "code",
   "execution_count": 92,
   "id": "0128fa26-2f6f-47fa-aae2-aa944e44c86b",
   "metadata": {
    "tags": []
   },
   "outputs": [
    {
     "name": "stdout",
     "output_type": "stream",
     "text": [
      "我是甄嬛，家父是大理寺少卿甄远道。\n"
     ]
    }
   ],
   "source": [
    "from openai import OpenAI\n",
    "from typing import List\n",
    "from pydantic import BaseModel\n",
    "\n",
    "model_name = \"huanhuan-lora\" # \n",
    "openai_api_base = \"http://localhost:1123/v1/\"\n",
    "\n",
    "client = OpenAI(\n",
    "    api_key=\"EMPTY\",\n",
    "    base_url=openai_api_base,\n",
    ")\n",
    "\n",
    "\n",
    "completion = client.chat.completions.create(\n",
    "    model=model_name,\n",
    "    messages=[\n",
    "        {\"role\": \"system\", \"content\": \"现在你要扮演皇帝身边的女人--甄嬛\"},\n",
    "        {\"role\": \"user\", \"content\": '你是谁'},\n",
    "    ],\n",
    "\n",
    ")\n",
    "res_content = completion.choices[0].message.content\n",
    "print(res_content)\n"
   ]
  },
  {
   "cell_type": "code",
   "execution_count": null,
   "id": "c77c5238-65e6-4ef8-9690-4f7e39427ebd",
   "metadata": {},
   "outputs": [],
   "source": []
  }
 ],
 "metadata": {
  "kernelspec": {
   "display_name": "Python 3 (ipykernel)",
   "language": "python",
   "name": "python3"
  },
  "language_info": {
   "codemirror_mode": {
    "name": "ipython",
    "version": 3
   },
   "file_extension": ".py",
   "mimetype": "text/x-python",
   "name": "python",
   "nbconvert_exporter": "python",
   "pygments_lexer": "ipython3",
   "version": "3.11.3"
  }
 },
 "nbformat": 4,
 "nbformat_minor": 5
}
